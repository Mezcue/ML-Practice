{
 "cells": [
  {
   "cell_type": "markdown",
   "id": "4854157f-d461-41e4-8fb3-b7385ac8b998",
   "metadata": {},
   "source": [
    "# Data Analysis"
   ]
  },
  {
   "cell_type": "markdown",
   "id": "485720f4-fb27-41a6-bfe7-24f71e18f477",
   "metadata": {},
   "source": [
    "Library Versions used\n",
    "- feature-engine==1.0.2\n",
    "- joblib==1.0.1\n",
    "- matplotlib==3.3.4\n",
    "- numpy==1.20.1\n",
    "- pandas==1.2.2\n",
    "- scikit-learn==0.24.1\n",
    "- scipy==1.6.0\n",
    "- seaborn==0.11.1\n",
    "- statsmodels==0.12.2"
   ]
  },
  {
   "cell_type": "markdown",
   "id": "0728fd9a-7954-467a-b888-089bed82d98d",
   "metadata": {},
   "source": [
    "## Predicting Sale Price of Houses"
   ]
  },
  {
   "cell_type": "code",
   "execution_count": null,
   "id": "3256d167-8675-4a1c-8c75-f75ef92e75af",
   "metadata": {},
   "outputs": [],
   "source": [
    "# handling data\n",
    "import pandas as pd\n",
    "import numpy as np\n",
    "\n",
    "# handling plotting\n",
    "import matplotlib.pyplot as plt\n",
    "import seaborn as sns\n",
    "\n",
    "# for yeo-johnson transformation\n",
    "import scipy.stats as stats\n",
    "\n",
    "# to disply all columns of the dataframe in the notebook\n",
    "pd.pandas.set_option('display.max_columns', None)"
   ]
  }
 ],
 "metadata": {
  "kernelspec": {
   "display_name": "Python [conda env:base] *",
   "language": "python",
   "name": "conda-base-py"
  },
  "language_info": {
   "codemirror_mode": {
    "name": "ipython",
    "version": 3
   },
   "file_extension": ".py",
   "mimetype": "text/x-python",
   "name": "python",
   "nbconvert_exporter": "python",
   "pygments_lexer": "ipython3",
   "version": "3.12.7"
  }
 },
 "nbformat": 4,
 "nbformat_minor": 5
}
