{
 "cells": [
  {
   "cell_type": "markdown",
   "id": "9df698b7",
   "metadata": {},
   "source": [
    "## Stupid Climbing Game"
   ]
  },
  {
   "cell_type": "code",
   "execution_count": null,
   "id": "5916a9e3",
   "metadata": {},
   "outputs": [],
   "source": [
    "class Climber():\n",
    "    \n",
    "    def __init__(name, skill, age = 18):\n",
    "        self.name = name\n",
    "        self.skill = skill\n",
    "        self.age = age\n",
    "    \n",
    "    def __repr__()"
   ]
  }
 ],
 "metadata": {
  "kernelspec": {
   "display_name": "Python 3 (ipykernel)",
   "language": "python",
   "name": "python3"
  },
  "language_info": {
   "codemirror_mode": {
    "name": "ipython",
    "version": 3
   },
   "file_extension": ".py",
   "mimetype": "text/x-python",
   "name": "python",
   "nbconvert_exporter": "python",
   "pygments_lexer": "ipython3",
   "version": "3.9.18"
  }
 },
 "nbformat": 4,
 "nbformat_minor": 5
}
