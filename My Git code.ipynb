{
 "cells": [
  {
   "cell_type": "code",
   "execution_count": null,
   "id": "2da5a286-1c62-4527-b584-9cd149dab558",
   "metadata": {},
   "outputs": [],
   "source": [
    "#!/bin/bash\n",
    "\n",
    "# Set up Git user configuration\n",
    "git config --global user.name \"Your Name\"\n",
    "git config --global user.email \"your.email@example.com\"\n",
    "\n",
    "# Navigate to the project directory\n",
    "cd /path/to/your/folder\n",
    "\n",
    "# Initialize a Git repository\n",
    "git init\n",
    "\n",
    "# Create a .gitignore file for Jupyter Notebook checkpoints and logs\n",
    "echo \"*.ipynb_checkpoints/\" > .gitignore\n",
    "echo \"*.log\" >> .gitignore\n",
    "\n",
    "# Stage and commit the .gitignore file\n",
    "git add .gitignore\n",
    "git commit -m \"Add .gitignore file\"\n",
    "\n",
    "# Stage all files in the directory\n",
    "git add .\n",
    "\n",
    "# Commit the files\n",
    "git commit -m \"Initial commit: Add Jupyter Notebook and other files\"\n",
    "\n",
    "# Add the remote GitHub repository\n",
    "git remote add origin https://github.com/username/repository.git\n",
    "\n",
    "# Push to the remote repository\n",
    "git branch -M main\n",
    "git push -u origin main\n",
    "\n",
    "echo \"Jupyter Notebook and files successfully pushed to GitHub!\"\n"
   ]
  }
 ],
 "metadata": {
  "kernelspec": {
   "display_name": "Python [conda env:base] *",
   "language": "python",
   "name": "conda-base-py"
  },
  "language_info": {
   "codemirror_mode": {
    "name": "ipython",
    "version": 3
   },
   "file_extension": ".py",
   "mimetype": "text/x-python",
   "name": "python",
   "nbconvert_exporter": "python",
   "pygments_lexer": "ipython3",
   "version": "3.12.7"
  }
 },
 "nbformat": 4,
 "nbformat_minor": 5
}
